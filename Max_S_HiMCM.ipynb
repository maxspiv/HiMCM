{
  "nbformat": 4,
  "nbformat_minor": 0,
  "metadata": {
    "colab": {
      "provenance": []
    },
    "kernelspec": {
      "name": "python3",
      "display_name": "Python 3"
    },
    "language_info": {
      "name": "python"
    }
  },
  "cells": [
    {
      "cell_type": "code",
      "execution_count": 50,
      "metadata": {
        "id": "zO04MCoI16Pu"
      },
      "outputs": [],
      "source": [
        "import math\n",
        "\n",
        "class hive():\n",
        "\n",
        "  def __init__(self,t,H,F_p,F_n,f_p,f_n,B_o,B_c,L,v,b,K,m_c,m_p,m_n,a_min_p,a_max_p,a_min_n,a_max_n,delta,phi_o,phi_c,lambda_b_o,gamma_b_o,gamma_H,lambda_A,c,name):\n",
        "    self.name = name\n",
        "    self.t = t\n",
        "    self.H = H\n",
        "    self.F_p = F_p\n",
        "    self.F_n = F_n\n",
        "    self.f_p = f_p\n",
        "    self.f_n = f_n\n",
        "    self.B_o = B_o\n",
        "    self.B_c = B_c\n",
        "    self.L = L\n",
        "    self.v = v\n",
        "    self.b = b\n",
        "    self.K = K\n",
        "    self.m_c = m_c\n",
        "    self.m_p = m_p\n",
        "    self.m_n = m_n\n",
        "    self.a_min_p = a_min_p\n",
        "    self.a_max_p = a_max_p\n",
        "    self.a_min_n = a_min_n\n",
        "    self.a_max_n = a_max_n\n",
        "    self.delta = delta\n",
        "    self.phi_o = phi_o\n",
        "    self.phi_c = phi_c\n",
        "    self.lambda_b_o = lambda_b_o\n",
        "    self.gamma_b_o = gamma_b_o\n",
        "    self.gamma_H = gamma_H\n",
        "    self.lambda_A = lambda_A\n",
        "    self.c = c\n",
        "\n",
        "  def dBo(self):\n",
        "    one = (self.L*self.S())\n",
        "    two = (self.phi_o*self.B_o)\n",
        "    return (one - two)\n",
        "\n",
        "  def dBc(self):\n",
        "    one = (self.phi_o*self.B_o)\n",
        "    two = (self.phi_c*self.B_c)\n",
        "    three = (self.m_c*self.B_c)\n",
        "    return (one-two-three)\n",
        "\n",
        "  def dH(self):\n",
        "    one = (self.phi_c*self.B_c)\n",
        "    two = (self.H*self.Rp())\n",
        "    three = (self.H*self.Rn())\n",
        "    return (one-two-three)\n",
        "\n",
        "  def dFp(self):\n",
        "    one = (self.H*self.Rp())\n",
        "    two = (self.m_p*self.F_p)\n",
        "    return (one-two)\n",
        "\n",
        "  def dFn(self):\n",
        "    one = (self.H*self.Rn())\n",
        "    two = (self.m_n*self.F_n)\n",
        "    return (one-two)\n",
        "\n",
        "  def dfp(self):\n",
        "    one = (self.mup()*self.c*self.F_p)\n",
        "    two = (self.gamma_b_o*self.B_o)\n",
        "    three = (self.gamma_H*self.H)\n",
        "    return (one-two-three)\n",
        "\n",
        "  def dfn(self):\n",
        "    one = (self.mun()*self.c*self.F_n)\n",
        "    two = (self.lambda_b_o*self.B_o)\n",
        "    three = (self.lambda_A*(self.H + self.F_p + self.F_n))\n",
        "    return (one-two-three)\n",
        "\n",
        "  def S(self):\n",
        "    f_p_2 = (self.f_p)**2\n",
        "    one = (self.H/(self.H + self.v))\n",
        "    two = (self.f_n/(self.f_n + self.b))\n",
        "    three = (f_p_2/(f_p_2+(self.K*self.H)))\n",
        "    return (one*two*three)\n",
        "\n",
        "  def Rp(self):\n",
        "    f_p_2 = (self.f_p)**2\n",
        "    one = self.a_max_p*(1-(f_p_2/(f_p_2+(self.K*self.H))))\n",
        "    two = self.delta*(self.F_p/(self.F_p + self.F_n + self.H))\n",
        "    return (self.a_min_p + one - two)\n",
        "\n",
        "  def Rn(self):\n",
        "    one = self.a_max_n*(1-(self.f_n/(self.f_n+self.b)))\n",
        "    two = self.delta*(self.F_n/(self.F_p + self.F_n + self.H))\n",
        "    return (self.a_min_n + one - two)\n",
        "\n",
        "  def mup(self):\n",
        "    return (0.5*(math.sin(((math.pi*self.t)/180)+(math.pi/2))+2.5))\n",
        "\n",
        "  def mun(self):\n",
        "    return (0.5*(math.sin((math.pi*self.t)/180)+5.5))\n",
        "\n",
        "  def forward(self):\n",
        "    B_o = self.B_o + self.dBo()\n",
        "    B_c = self.B_c + self.dBc()\n",
        "    H = self.H + self.dH()\n",
        "    F_p = self.F_p + self.dFp()\n",
        "    F_n = self.F_n + self.dFn()\n",
        "    f_p = self.f_p + self.dfp()\n",
        "    f_n = self.f_n + self.dfn()\n",
        "    time = self.t + 1\n",
        "    return({'t':time,'H':H,'F_p':F_p,'F_n':F_n,'f_p':f_p,'f_n':f_n,'B_o':B_o,'B_c':B_c})"
      ]
    },
    {
      "cell_type": "code",
      "source": [
        "params = {'t':0,\n",
        "          'H':16000,\n",
        "          'F_p':2000,\n",
        "          'F_n':6000,\n",
        "          'f_p':0,\n",
        "          'f_n':0,\n",
        "          'B_o':0,\n",
        "          'B_c':0,\n",
        "          'L':2000,\n",
        "          'v':5000,\n",
        "          'b':500,\n",
        "          'K':8,\n",
        "          'm_c':0,\n",
        "          'm_p':0.5,\n",
        "          'm_n':0.5,\n",
        "          'a_min_p':0.25,\n",
        "          'a_max_p':0.25,\n",
        "          'a_min_n':0.25,\n",
        "          'a_max_n':0.25,\n",
        "          'delta':0.75,\n",
        "          'phi_o':1/9,\n",
        "          'phi_c':1/12,\n",
        "          'lambda_b_o':0.018,\n",
        "          'gamma_b_o':0.018,\n",
        "          'gamma_H':0.007,\n",
        "          'lambda_A':0.007,\n",
        "          'c':0.1,\n",
        "          'name':'hive1'}\n",
        "days = 1"
      ],
      "metadata": {
        "id": "JfB5UgEy7JHE"
      },
      "execution_count": 94,
      "outputs": []
    },
    {
      "cell_type": "code",
      "source": [
        "def simulate(params,days):\n",
        "  hives = hive(**params)\n",
        "  for i in range(days):\n",
        "    updated = hives.forward()\n",
        "    params.update(updated)\n",
        "    hives = hive(**params)\n",
        "  return updated"
      ],
      "metadata": {
        "id": "BJdEudrGu6DO"
      },
      "execution_count": 95,
      "outputs": []
    },
    {
      "cell_type": "code",
      "source": [
        "simulate(params,days)"
      ],
      "metadata": {
        "colab": {
          "base_uri": "https://localhost:8080/"
        },
        "id": "sNRf1pySCYRQ",
        "outputId": "4353a9c5-a1f7-4313-f5d1-ddd1087c9efa"
      },
      "execution_count": 100,
      "outputs": [
        {
          "output_type": "execute_result",
          "data": {
            "text/plain": [
              "{'t': 5,\n",
              " 'H': 2631.1257211030943,\n",
              " 'F_p': 913.3488401139958,\n",
              " 'F_n': 990.6003529455927,\n",
              " 'f_p': 2778.487447397248,\n",
              " 'f_n': 5393.657023337895,\n",
              " 'B_o': 2280.152424464684,\n",
              " 'B_c': 350.0565179649734}"
            ]
          },
          "metadata": {},
          "execution_count": 100
        }
      ]
    },
    {
      "cell_type": "code",
      "source": [
        "import numpy\n",
        "from matplotlib.pyplot import plot\n",
        "plot(0.5*(numpy.sin(((math.pi*numpy.arange(365))/180)+(math.pi/2))+2.5))"
      ],
      "metadata": {
        "colab": {
          "base_uri": "https://localhost:8080/",
          "height": 286
        },
        "id": "e0aUExyNCZy4",
        "outputId": "18080565-2d98-4db7-b591-0c000af927de"
      },
      "execution_count": 104,
      "outputs": [
        {
          "output_type": "execute_result",
          "data": {
            "text/plain": [
              "[<matplotlib.lines.Line2D at 0x7fed725b1f10>]"
            ]
          },
          "metadata": {},
          "execution_count": 104
        },
        {
          "output_type": "display_data",
          "data": {
            "text/plain": [
              "<Figure size 432x288 with 1 Axes>"
            ],
            "image/png": "[encoded data removed]"
          },
          "metadata": {
            "needs_background": "light"
          }
        }
      ]
    }
  ]
}